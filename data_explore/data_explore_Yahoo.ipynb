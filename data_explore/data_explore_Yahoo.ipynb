{
 "cells": [
  {
   "cell_type": "code",
   "execution_count": null,
   "metadata": {},
   "outputs": [],
   "source": [
    "import os\n",
    "\n",
    "yahoo_files = [\n",
    "    os.path.join(path, name) \n",
    "        for path, _, files in os.walk(\"../data/Yahoo\") for name in files\n",
    "]\n",
    "yahoo_files.sort()"
   ]
  },
  {
   "cell_type": "code",
   "execution_count": null,
   "metadata": {},
   "outputs": [],
   "source": [
    "f\"Number of files in Yahoo dataset: {len(yahoo_files)}\""
   ]
  },
  {
   "cell_type": "code",
   "execution_count": null,
   "metadata": {},
   "outputs": [],
   "source": [
    "import matplotlib.pyplot as plt\n",
    "import numpy as np"
   ]
  },
  {
   "cell_type": "code",
   "execution_count": null,
   "metadata": {},
   "outputs": [],
   "source": [
    "plots_per_file = 25\n",
    "figure_size = 30\n",
    "for idx, filename in enumerate(yahoo_files):\n",
    "    if idx % plots_per_file == 0:\n",
    "        if idx / plots_per_file != 0:\n",
    "            plt.savefig(f'plots_Yahoo/yahoo_stacked{int(idx / plots_per_file)}.png')\n",
    "            plt.close(figure)\n",
    "        figure, axis = plt.subplots(5, 5, figsize=(figure_size,figure_size))\n",
    "\n",
    "    \n",
    "    row, col = (idx % plots_per_file) // 5, (idx % plots_per_file) % 5\n",
    "\n",
    "    data = np.loadtxt(filename, delimiter=\",\", dtype=float)\n",
    "    \n",
    "    axis[row, col].plot(data[:, 1])\n",
    "    for xc in np.where(data[:,2] == 1)[0]:\n",
    "        axis[row, col].plot(xc, \n",
    "                            data[xc, 1],\n",
    "                            marker=\"o\", \n",
    "                            markeredgecolor=\"red\", \n",
    "                            markerfacecolor=\"red\"\n",
    "        )\n",
    "    axis[row, col].set_title(filename[8:])\n",
    "\n",
    "plt.savefig(f'plots_Yahoo/yahoo_stacked{int(idx / plots_per_file) + 1}.png')\n",
    "plt.close(figure)"
   ]
  },
  {
   "cell_type": "code",
   "execution_count": null,
   "metadata": {},
   "outputs": [],
   "source": [
    "plots_per_file = 25\n",
    "figure_size = 30\n",
    "for idx, filename in enumerate(yahoo_files):\n",
    "    if idx % plots_per_file == 0:\n",
    "        if idx / plots_per_file != 0:\n",
    "            plt.savefig(f'plots_Yahoo/yahoo_stacked_boxplot{int(idx / plots_per_file)}.png')\n",
    "            plt.close(figure)\n",
    "        figure, axis = plt.subplots(5, 5, figsize=(figure_size,figure_size))\n",
    "\n",
    "    \n",
    "    row, col = (idx % plots_per_file) // 5, (idx % plots_per_file) % 5\n",
    "\n",
    "    data = np.loadtxt(filename, delimiter=\",\", dtype=float)\n",
    "    \n",
    "    axis[row, col].boxplot(data[:, 1])\n",
    "    axis[row, col].set_title(filename[8:])\n",
    "\n",
    "plt.savefig(f'plots_Yahoo/yahoo_stacked_boxplot{int(idx / plots_per_file) + 1}.png')\n",
    "plt.close(figure)"
   ]
  },
  {
   "attachments": {},
   "cell_type": "markdown",
   "metadata": {},
   "source": [
    "Wybrałem 8 najciekawszych wykresów do pokazania."
   ]
  },
  {
   "cell_type": "code",
   "execution_count": null,
   "metadata": {},
   "outputs": [],
   "source": [
    "choosen_plots = [\n",
    "    \"../data/Yahoo/A3Benchmark/A3Benchmark-TS2.csv\",\n",
    "    \"../data/Yahoo/A3Benchmark/A3Benchmark-TS73.csv\",\n",
    "    \"../data/Yahoo/A4Benchmark/A4Benchmark-TS79.csv\",\n",
    "    \"../data/Yahoo/A4Benchmark/A4Benchmark-TS8.csv\",\n",
    "    \"../data/Yahoo/A2Benchmark/synthetic_17.csv\",\n",
    "    \"../data/Yahoo/A2Benchmark/synthetic_22.csv\",\n",
    "    \"../data/Yahoo/A1Benchmark/real_7.csv\",\n",
    "    \"../data/Yahoo/A1Benchmark/real_65.csv\"\n",
    "]"
   ]
  },
  {
   "cell_type": "code",
   "execution_count": null,
   "metadata": {},
   "outputs": [],
   "source": [
    "figure, axis = plt.subplots(2, 4, figsize=(30,15))\n",
    "\n",
    "for idx, plot_path in enumerate(choosen_plots):\n",
    "    row, col = (idx % plots_per_file) // 4, (idx % plots_per_file) % 4\n",
    "\n",
    "    data = np.loadtxt(plot_path, delimiter=\",\", dtype=float)\n",
    "    \n",
    "    axis[row, col].plot(data[:, 1])\n",
    "    for xc in np.where(data[:,2] == 1)[0]:\n",
    "        axis[row, col].plot(xc, \n",
    "                            data[xc, 1],\n",
    "                            marker=\"o\", \n",
    "                            markeredgecolor=\"red\", \n",
    "                            markerfacecolor=\"red\"\n",
    "        )\n",
    "    axis[row, col].set_title(plot_path[8:])\n",
    "\n",
    "plt.savefig(f'plots_Yahoo/choosen.png')\n",
    "plt.close(figure)"
   ]
  },
  {
   "cell_type": "code",
   "execution_count": null,
   "metadata": {},
   "outputs": [],
   "source": [
    "figure, axis = plt.subplots(2, 4, figsize=(30,15))\n",
    "\n",
    "for idx, plot_path in enumerate(choosen_plots):\n",
    "    row, col = (idx % plots_per_file) // 4, (idx % plots_per_file) % 4\n",
    "\n",
    "    data = np.loadtxt(plot_path, delimiter=\",\", dtype=float)\n",
    "    \n",
    "    axis[row, col].boxplot(data[:, 1])\n",
    "    axis[row, col].set_title(plot_path[8:])\n",
    "\n",
    "plt.savefig(f'plots_Yahoo/choosen_boxplot.png')\n",
    "plt.close(figure)"
   ]
  }
 ],
 "metadata": {
  "kernelspec": {
   "display_name": "Python 3",
   "language": "python",
   "name": "python3"
  },
  "language_info": {
   "codemirror_mode": {
    "name": "ipython",
    "version": 3
   },
   "file_extension": ".py",
   "mimetype": "text/x-python",
   "name": "python",
   "nbconvert_exporter": "python",
   "pygments_lexer": "ipython3",
   "version": "3.10.6"
  },
  "orig_nbformat": 4
 },
 "nbformat": 4,
 "nbformat_minor": 2
}
