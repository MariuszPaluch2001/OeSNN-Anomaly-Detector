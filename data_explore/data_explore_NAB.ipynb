{
 "cells": [
  {
   "cell_type": "code",
   "execution_count": null,
   "metadata": {},
   "outputs": [],
   "source": [
    "import os\n",
    "\n",
    "NAB_files = [\n",
    "    os.path.join(path, name) \n",
    "        for path, _, files in os.walk(\"../data/NAB/streams\") for name in files\n",
    "]\n",
    "NAB_files.sort()"
   ]
  },
  {
   "cell_type": "code",
   "execution_count": null,
   "metadata": {},
   "outputs": [],
   "source": [
    "f\"Number of files in NAB dataset: {len(NAB_files)}\""
   ]
  },
  {
   "cell_type": "code",
   "execution_count": null,
   "metadata": {},
   "outputs": [],
   "source": [
    "import json\n",
    "\n",
    "\n",
    "with open(\"../data/NAB/labels/combined_labels.json\") as f:\n",
    "    labels = json.load(f)\n",
    "\n",
    "labels"
   ]
  },
  {
   "cell_type": "code",
   "execution_count": null,
   "metadata": {},
   "outputs": [],
   "source": [
    "import matplotlib.pyplot as plt\n",
    "import pandas as pd"
   ]
  },
  {
   "cell_type": "code",
   "execution_count": null,
   "metadata": {},
   "outputs": [],
   "source": [
    "plots_per_file = 25\n",
    "figure_size = 30\n",
    "for idx, filename in enumerate(NAB_files):\n",
    "    if idx % plots_per_file == 0:\n",
    "        if idx / plots_per_file != 0:\n",
    "            plt.savefig(f'plots_NAB/NAB_stacked{int(idx / plots_per_file)}.png')\n",
    "            plt.close(figure)\n",
    "        figure, axis = plt.subplots(5, 5, figsize=(figure_size,figure_size))\n",
    "\n",
    "    \n",
    "    row, col = (idx % plots_per_file) // 5, (idx % plots_per_file) % 5\n",
    "\n",
    "    data = pd.read_csv(filename)\n",
    "\n",
    "    axis[row, col].plot(data[\"value\"])\n",
    "    for timestamp in labels[filename[len(\"../data/NAB/streams/\"):]]:\n",
    "\n",
    "        anomaly = data[data[\"timestamp\"] == timestamp]\n",
    "\n",
    "        axis[row, col].plot(anomaly.index[0], \n",
    "                            anomaly[\"value\"],\n",
    "                            marker=\"o\", \n",
    "                            markeredgecolor=\"red\", \n",
    "                            markerfacecolor=\"red\"\n",
    "        )\n",
    "    axis[row, col].set_title(filename[len(\"../data/NAB/streams/\"):])\n",
    "\n",
    "plt.savefig(f'plots_NAB/NAB_stacked{int(idx / plots_per_file) + 1}.png')\n",
    "plt.close(figure)"
   ]
  },
  {
   "cell_type": "code",
   "execution_count": null,
   "metadata": {},
   "outputs": [],
   "source": [
    "plots_per_file = 25\n",
    "figure_size = 30\n",
    "for idx, filename in enumerate(NAB_files):\n",
    "    if idx % plots_per_file == 0:\n",
    "        if idx / plots_per_file != 0:\n",
    "            plt.savefig(f'plots_NAB/NAB_stacked_boxplot{int(idx / plots_per_file)}.png')\n",
    "            plt.close(figure)\n",
    "        figure, axis = plt.subplots(5, 5, figsize=(figure_size,figure_size))\n",
    "\n",
    "    \n",
    "    row, col = (idx % plots_per_file) // 5, (idx % plots_per_file) % 5\n",
    "\n",
    "    data = pd.read_csv(filename)\n",
    "\n",
    "    axis[row, col].boxplot(data[\"value\"])\n",
    "\n",
    "    axis[row, col].set_title(filename[len(\"../data/NAB/streams/\"):])\n",
    "\n",
    "plt.savefig(f'plots_NAB/NAB_stacked_boxplot{int(idx / plots_per_file) + 1}.png')\n",
    "plt.close(figure)"
   ]
  },
  {
   "attachments": {},
   "cell_type": "markdown",
   "metadata": {},
   "source": [
    "Wybrałem 8 najciekawszych wykresów do pokazania."
   ]
  },
  {
   "cell_type": "code",
   "execution_count": null,
   "metadata": {},
   "outputs": [],
   "source": [
    "choosen_plots = [\n",
    "    \"../data/NAB/streams/realTweets/Twitter_volume_GOOG.csv\",\n",
    "    \"../data/NAB/streams/artificialWithAnomaly/art_daily_jumpsup.csv\",\n",
    "    \"../data/NAB/streams/realKnownCause/machine_temperature_system_failure.csv\",\n",
    "    \"../data/NAB/streams/realAWSCloudwatch/ec2_cpu_utilization_ac20cd.csv\",\n",
    "    \"../data/NAB/streams/realTraffic/speed_t4013.csv\",\n",
    "    \"../data/NAB/streams/realAWSCloudwatch/ec2_cpu_utilization_53ea38.csv\",\n",
    "    \"../data/NAB/streams/realAWSCloudwatch/iio_us-east-1_i-a2eb1cd9_NetworkIn.csv\",\n",
    "    \"../data/NAB/streams/realAWSCloudwatch/ec2_network_in_257a54.csv\"\n",
    "]"
   ]
  },
  {
   "cell_type": "code",
   "execution_count": null,
   "metadata": {},
   "outputs": [],
   "source": [
    "figure, axis = plt.subplots(2, 4, figsize=(30,15))\n",
    "\n",
    "for idx, plot_path in enumerate(choosen_plots):\n",
    "    row, col = (idx % plots_per_file) // 4, (idx % plots_per_file) % 4\n",
    "\n",
    "    data = pd.read_csv(plot_path)\n",
    "    \n",
    "    axis[row, col].plot(data[\"value\"])\n",
    "    for timestamp in labels[plot_path[len(\"../data/NAB/streams/\"):]]:\n",
    "\n",
    "        anomaly = data[data[\"timestamp\"] == timestamp]\n",
    "\n",
    "        axis[row, col].plot(anomaly.index[0], \n",
    "                            anomaly[\"value\"],\n",
    "                            marker=\"o\", \n",
    "                            markeredgecolor=\"red\", \n",
    "                            markerfacecolor=\"red\"\n",
    "        )\n",
    "    axis[row, col].set_title(plot_path[len(\"../data/NAB/streams/\"):])\n",
    "\n",
    "plt.savefig(f'plots_NAB/choosen.png')\n",
    "plt.close(figure)"
   ]
  },
  {
   "cell_type": "code",
   "execution_count": null,
   "metadata": {},
   "outputs": [],
   "source": [
    "figure, axis = plt.subplots(2, 4, figsize=(30,15))\n",
    "\n",
    "for idx, plot_path in enumerate(choosen_plots):\n",
    "    row, col = (idx % plots_per_file) // 4, (idx % plots_per_file) % 4\n",
    "\n",
    "    data = pd.read_csv(plot_path)\n",
    "    \n",
    "    axis[row, col].boxplot(data[\"value\"])\n",
    "    axis[row, col].set_title(plot_path[len(\"../data/NAB/streams/\"):])\n",
    "\n",
    "plt.savefig(f'plots_NAB/choosen_boxplot.png')\n",
    "plt.close(figure)"
   ]
  }
 ],
 "metadata": {
  "kernelspec": {
   "display_name": "Python 3",
   "language": "python",
   "name": "python3"
  },
  "language_info": {
   "codemirror_mode": {
    "name": "ipython",
    "version": 3
   },
   "file_extension": ".py",
   "mimetype": "text/x-python",
   "name": "python",
   "nbconvert_exporter": "python",
   "pygments_lexer": "ipython3",
   "version": "3.10.6"
  },
  "orig_nbformat": 4
 },
 "nbformat": 4,
 "nbformat_minor": 2
}
