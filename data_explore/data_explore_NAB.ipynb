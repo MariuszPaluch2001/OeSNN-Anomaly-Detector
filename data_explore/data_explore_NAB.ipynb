{
 "cells": [
  {
   "cell_type": "code",
   "execution_count": 1,
   "metadata": {},
   "outputs": [],
   "source": [
    "import os\n",
    "\n",
    "NAB_files = [\n",
    "    os.path.join(path, name) \n",
    "        for path, _, files in os.walk(\"../data/NAB\") for name in files\n",
    "]\n",
    "NAB_files.sort()"
   ]
  },
  {
   "cell_type": "code",
   "execution_count": 2,
   "metadata": {},
   "outputs": [
    {
     "data": {
      "text/plain": [
       "'Number of files in NAB dataset: 58'"
      ]
     },
     "execution_count": 2,
     "metadata": {},
     "output_type": "execute_result"
    }
   ],
   "source": [
    "f\"Number of files in NAB dataset: {len(NAB_files)}\""
   ]
  },
  {
   "cell_type": "code",
   "execution_count": 3,
   "metadata": {},
   "outputs": [],
   "source": [
    "import matplotlib.pyplot as plt\n",
    "import numpy as np"
   ]
  },
  {
   "cell_type": "code",
   "execution_count": 4,
   "metadata": {},
   "outputs": [],
   "source": [
    "plots_per_file = 25\n",
    "figure_size = 30\n",
    "for idx, filename in enumerate(NAB_files):\n",
    "    if idx % plots_per_file == 0:\n",
    "        if idx / plots_per_file != 0:\n",
    "            plt.savefig(f'plots_NAB/NAB_stacked{int(idx / plots_per_file)}.png')\n",
    "            plt.close(figure)\n",
    "        figure, axis = plt.subplots(5, 5, figsize=(figure_size,figure_size))\n",
    "\n",
    "    \n",
    "    row, col = (idx % plots_per_file) // 5, (idx % plots_per_file) % 5\n",
    "\n",
    "    data = np.loadtxt(filename, delimiter=\",\", dtype=float, skiprows=1, usecols=range(1,3))\n",
    "    \n",
    "    axis[row, col].plot(data[:, 0])\n",
    "    for xc in np.where(data[:,1] == 1)[0]:\n",
    "        axis[row, col].plot(xc, \n",
    "                            data[xc, 0],\n",
    "                            marker=\"o\", \n",
    "                            markeredgecolor=\"red\", \n",
    "                            markerfacecolor=\"red\"\n",
    "        )\n",
    "    axis[row, col].set_title(filename[8:])\n",
    "\n",
    "plt.savefig(f'plots_NAB/NAB_stacked{int(idx / plots_per_file) + 1}.png')\n",
    "plt.close(figure)"
   ]
  },
  {
   "cell_type": "code",
   "execution_count": 5,
   "metadata": {},
   "outputs": [],
   "source": [
    "plots_per_file = 25\n",
    "figure_size = 30\n",
    "for idx, filename in enumerate(NAB_files):\n",
    "    if idx % plots_per_file == 0:\n",
    "        if idx / plots_per_file != 0:\n",
    "            plt.savefig(f'plots_NAB/NAB_stacked_boxplot{int(idx / plots_per_file)}.png')\n",
    "            plt.close(figure)\n",
    "        figure, axis = plt.subplots(5, 5, figsize=(figure_size,figure_size))\n",
    "\n",
    "    \n",
    "    row, col = (idx % plots_per_file) // 5, (idx % plots_per_file) % 5\n",
    "\n",
    "    data = np.loadtxt(filename, delimiter=\",\", dtype=float, skiprows=1, usecols=range(1,3))\n",
    "    \n",
    "    axis[row, col].boxplot(data[:, 0])\n",
    "    axis[row, col].set_title(filename[8:])\n",
    "\n",
    "plt.savefig(f'plots_NAB/NAB_stacked_boxplot{int(idx / plots_per_file) + 1}.png')\n",
    "plt.close(figure)"
   ]
  },
  {
   "attachments": {},
   "cell_type": "markdown",
   "metadata": {},
   "source": [
    "Wybrałem 8 najciekawszych wykresów do pokazania."
   ]
  },
  {
   "cell_type": "code",
   "execution_count": 8,
   "metadata": {},
   "outputs": [],
   "source": [
    "choosen_plots = [\n",
    "    \"../data/NAB/realTweets/realTweets_Twitter_volume_GOOG.csv\",\n",
    "    \"../data/NAB/artificialWithAnomaly/artificialWithAnomaly_art_daily_jumpsup.csv\",\n",
    "    \"../data/NAB/realKnownCause/realKnownCause_machine_temperature_system_failure.csv\",\n",
    "    \"../data/NAB/realAWSCloudwatch/realAWSCloudwatch_ec2_cpu_utilization_ac20cd.csv\",\n",
    "    \"../data/NAB/realTraffic/realTraffic_speed_t4013.csv\",\n",
    "    \"../data/NAB/realAWSCloudwatch/realAWSCloudwatch_ec2_cpu_utilization_53ea38.csv\",\n",
    "    \"../data/NAB/realAWSCloudwatch/realAWSCloudwatch_iio_us-east-1_i-a2eb1cd9_NetworkIn.csv\",\n",
    "    \"../data/NAB/realAWSCloudwatch/realAWSCloudwatch_ec2_network_in_257a54.csv\"\n",
    "]"
   ]
  },
  {
   "cell_type": "code",
   "execution_count": 9,
   "metadata": {},
   "outputs": [],
   "source": [
    "figure, axis = plt.subplots(2, 4, figsize=(30,15))\n",
    "\n",
    "for idx, plot_path in enumerate(choosen_plots):\n",
    "    row, col = (idx % plots_per_file) // 4, (idx % plots_per_file) % 4\n",
    "\n",
    "    data = np.loadtxt(plot_path, delimiter=\",\", dtype=float, skiprows=1, usecols=range(1,3))\n",
    "    \n",
    "    axis[row, col].plot(data[:, 0])\n",
    "    for xc in np.where(data[:, 1] == 1)[0]:\n",
    "        axis[row, col].plot(xc, \n",
    "                            data[xc, 0],\n",
    "                            marker=\"o\", \n",
    "                            markeredgecolor=\"red\", \n",
    "                            markerfacecolor=\"red\"\n",
    "        )\n",
    "    axis[row, col].set_title(plot_path[8:])\n",
    "\n",
    "plt.savefig(f'plots_NAB/choosen.png')\n",
    "plt.close(figure)"
   ]
  },
  {
   "cell_type": "code",
   "execution_count": null,
   "metadata": {},
   "outputs": [],
   "source": [
    "figure, axis = plt.subplots(2, 4, figsize=(30,15))\n",
    "\n",
    "for idx, plot_path in enumerate(choosen_plots):\n",
    "    row, col = (idx % plots_per_file) // 4, (idx % plots_per_file) % 4\n",
    "\n",
    "    data = np.loadtxt(plot_path, delimiter=\",\", dtype=float, skiprows=1, usecols=range(1,3))\n",
    "    \n",
    "    axis[row, col].boxplot(data[:, 0])\n",
    "    axis[row, col].set_title(plot_path[8:])\n",
    "\n",
    "plt.savefig(f'plots_NAB/choosen_boxplot.png')\n",
    "plt.close(figure)"
   ]
  }
 ],
 "metadata": {
  "kernelspec": {
   "display_name": "Python 3",
   "language": "python",
   "name": "python3"
  },
  "language_info": {
   "codemirror_mode": {
    "name": "ipython",
    "version": 3
   },
   "file_extension": ".py",
   "mimetype": "text/x-python",
   "name": "python",
   "nbconvert_exporter": "python",
   "pygments_lexer": "ipython3",
   "version": "3.10.6"
  },
  "orig_nbformat": 4
 },
 "nbformat": 4,
 "nbformat_minor": 2
}
