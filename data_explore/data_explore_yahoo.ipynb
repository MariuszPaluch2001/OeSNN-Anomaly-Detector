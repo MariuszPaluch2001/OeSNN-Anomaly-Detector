{
 "cells": [
  {
   "cell_type": "code",
   "execution_count": null,
   "metadata": {},
   "outputs": [],
   "source": [
    "import os\n",
    "\n",
    "yahoo_files = [\n",
    "    os.path.join(path, name) \n",
    "        for path, _, files in os.walk(\"Yahoo\") for name in files\n",
    "]"
   ]
  },
  {
   "cell_type": "code",
   "execution_count": null,
   "metadata": {},
   "outputs": [],
   "source": [
    "f\"Number of files in Yahoo dataset: {len(yahoo_files)}\""
   ]
  },
  {
   "cell_type": "code",
   "execution_count": null,
   "metadata": {},
   "outputs": [],
   "source": [
    "import matplotlib.pyplot as plt\n",
    "import csv"
   ]
  },
  {
   "cell_type": "code",
   "execution_count": 32,
   "metadata": {},
   "outputs": [],
   "source": [
    "plots_per_file = 25\n",
    "figure_size = 30\n",
    "for idx, filename in enumerate(yahoo_files):\n",
    "    if idx % plots_per_file == 0:\n",
    "        if idx / plots_per_file != 0:\n",
    "            plt.savefig(f'plots_Yahoo/yahoo_stacked{int(idx / plots_per_file)}.png')\n",
    "            plt.close(figure)\n",
    "        figure, axis = plt.subplots(5, 5, figsize=(figure_size,figure_size))\n",
    "\n",
    "    \n",
    "    row, col = (idx % plots_per_file) // 5, (idx % plots_per_file) % 5\n",
    "    with open(filename, 'r') as file:\n",
    "        csvreader = csv.reader(file)\n",
    "        data = [float(sample[1]) for sample in csvreader]\n",
    "    \n",
    "    axis[row, col].plot(data)\n",
    "    axis[row, col].set_title(filename)\n",
    "\n",
    "plt.savefig(f'plots_Yahoo/yahoo_stacked{int(idx / plots_per_file) + 1}.png')\n",
    "plt.close(figure)"
   ]
  }
 ],
 "metadata": {
  "kernelspec": {
   "display_name": "Python 3",
   "language": "python",
   "name": "python3"
  },
  "language_info": {
   "codemirror_mode": {
    "name": "ipython",
    "version": 3
   },
   "file_extension": ".py",
   "mimetype": "text/x-python",
   "name": "python",
   "nbconvert_exporter": "python",
   "pygments_lexer": "ipython3",
   "version": "3.10.6"
  },
  "orig_nbformat": 4
 },
 "nbformat": 4,
 "nbformat_minor": 2
}
